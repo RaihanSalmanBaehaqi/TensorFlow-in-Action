{
  "nbformat": 4,
  "nbformat_minor": 0,
  "metadata": {
    "colab": {
      "provenance": []
    },
    "kernelspec": {
      "name": "python3",
      "display_name": "Python 3"
    },
    "language_info": {
      "name": "python"
    }
  },
  "cells": [
    {
      "cell_type": "markdown",
      "source": [
        "**PART 1**\n",
        "\n",
        "**Foundations of TensorFlow 2 and deep learning**\n",
        "\n",
        "---"
      ],
      "metadata": {
        "id": "UWnQdNy94oEI"
      }
    },
    {
      "cell_type": "markdown",
      "source": [
        "**CHAPTER 1 - The amazing world of TensorFlow**\n",
        "\n",
        "---"
      ],
      "metadata": {
        "id": "7SsSigyf4u7P"
      }
    },
    {
      "cell_type": "markdown",
      "source": [
        "**What is machine learning?**\n",
        "\n",
        "Machine learning involves training a computational model to predict outcomes based on input data. The typical process for solving a machine learning problem includes the following steps:\n",
        "* Understanding/Exploratory Analysis of Data: Investigating the data to understand relationships between variables.\n",
        "* Cleaning Data: Handling messy data to ensure it's of high quality for the model.\n",
        "* Feature Engineering: Creating new features from existing data to improve model performance.\n",
        "* Modeling: Training a model using selected features and corresponding targets.\n",
        "* Evaluation: Testing the model’s ability to generalize to new, unseen data.\n",
        "* User Interface Creation: Building a dashboard or interface for stakeholders to interact with the model.\n",
        "\n",
        "This process is often iterative, requiring frequent cycles of data exploration, cleaning, and feature adjustments as you refine the model.\n",
        "\n",
        "---"
      ],
      "metadata": {
        "id": "C2U-Mv_F46R2"
      }
    },
    {
      "cell_type": "markdown",
      "source": [
        "**1.1 What is TensorFlow?**\n",
        "\n",
        "TensorFlow is an end-to-end machine learning framework developed by Google. It is designed for fast performance, particularly on optimized hardware like GPUs and TPUs. While its main use is in deep neural networks, TensorFlow also supports:\n",
        "* Probabilistic machine learning models\n",
        "* Computer graphics computations\n",
        "* Reusing pretrained models\n",
        "* Visualizing and debugging models\n",
        "\n",
        "TensorFlow provides a holistic ecosystem, supporting various stages of machine learning, from prototyping to production deployment. It offers tools for:\n",
        "* Model development: Building deep learning models with predefined or custom layers\n",
        "* Performance monitoring: Tracking model training and performance\n",
        "* Model debugging: Identifying and resolving issues during training/prediction\n",
        "* Model serving: Deploying models for real-world use\n",
        "\n",
        "TensorFlow has grown into a powerful tool for machine learning, with over 100 releases and contributions from thousands of developers. It simplifies the process of building and deploying machine learning models."
      ],
      "metadata": {
        "id": "fFYOnP095htz"
      }
    },
    {
      "cell_type": "markdown",
      "source": [
        "**Overview of Popular TensorFlow Components**\n",
        "\n",
        "TensorFlow is an end-to-end machine learning framework that supports various stages of a machine learning project, from data analysis to model deployment. Key components include:\n",
        "\n",
        "1. Data Handling:\n",
        "\n",
        "* tf.data API: Helps create custom data pipelines to manage and process large datasets efficiently by loading and iterating through data in batches (important for deep learning due to memory constraints).\n",
        "\n",
        "* tensorflow-datasets: Provides easy access to popular datasets with a single line of code.\n",
        "\n",
        "* Keras Data Generators: A high-level tool for loading and processing data types like images or time-series from various sources (e.g., disk).\n",
        "\n",
        "2. Model Building:\n",
        "\n",
        "* TensorFlow provides low-level tools for building models from scratch using primitive operations like matrix multiplication and tensors. However, building models this way can be complex and error-prone.\n",
        "\n",
        "* Keras: A higher-level TensorFlow submodule that simplifies model building. It provides:\n",
        "\n",
        "    * Layer objects for common neural network functions.\n",
        "\n",
        "    * Model-building APIs like the Sequential API (for simple models) and the Functional API (for complex models).\n",
        "\n",
        "* Estimator API: A high-level API for robust model training, prediction, and evaluation with minimal user errors.\n",
        "\n",
        "3. Data Flow Graph:\n",
        "\n",
        "* TensorFlow builds a data-flow graph representing the model and its operations. The graph can be optimized to run on specialized hardware (e.g., GPUs), ensuring efficient execution.\n",
        "\n",
        "In summary, TensorFlow offers flexibility at both low and high levels for building and deploying machine learning models, with tools to handle data, define models, and execute operations efficiently."
      ],
      "metadata": {
        "id": "Y6vspgeH7Dpv"
      }
    },
    {
      "cell_type": "markdown",
      "source": [
        "**Building and Deploying a Machine Learning Model**\n",
        "\n",
        "* Training: After preparing the data with the tf.data API, you train the model. Deep learning models are time-consuming to train, so it’s crucial to monitor progress during training. The model’s performance on training and validation data is evaluated through loss values and metrics, which help detect issues early.\n",
        "\n",
        "* Monitoring with TensorBoard: TensorBoard is a TensorFlow tool for visualizing metrics like accuracy and precision during training. It helps identify performance issues quickly by logging the metrics and displaying them on a dashboard.\n",
        "\n",
        "* Saving the Model: After training, save the model to prevent loss when the program ends or during interruptions. Models can be saved in formats like HDF5 or TensorFlow’s standard SavedModel format. This allows the model to be restored and retrained if necessary.\n",
        "\n",
        "* Deployment: To make the model available to users, deploy it using TensorFlow Serving, which provides an API for easy interaction with the model.\n",
        "\n",
        "In summary, TensorFlow provides tools to efficiently train, monitor, save, and deploy machine learning models, making them accessible for real-world applications.\n",
        "\n",
        "---"
      ],
      "metadata": {
        "id": "JAZnYSQF7wEn"
      }
    },
    {
      "cell_type": "markdown",
      "source": [
        "**1.2 GPU vs. CPU**\n",
        "\n",
        "* CPU (Car): A CPU has a few cores (e.g., eight) that handle many tasks quickly but on a small scale, such as coordinating communications or processing I/O. It supports a wide range of instructions but relies on complex infrastructure (e.g., transistors, caches) to achieve fast execution. CPUs are designed for low-latency tasks.\n",
        "\n",
        "* GPU (Bus): A GPU has many cores (e.g., over a thousand) optimized for parallel processing, making it ideal for tasks like deep learning. Each GPU core runs fewer instructions at a time but can handle many tasks simultaneously, focusing on high throughput rather than speed.\n",
        "\n",
        "Analogy:\n",
        "* A car (CPU) is fast and versatile but handles fewer tasks at once.\n",
        "* A bus (GPU) is slower but handles many tasks (or people) simultaneously, making it efficient for parallel tasks.\n",
        "\n",
        "![Figure1-1.jpg](./01.Chapter-01/Figure1-1.jpg)\n",
        "\n",
        "In summary, CPUs are fast and handle a variety of tasks, while GPUs are designed for specialized parallel processing, making them more suitable for deep learning and similar applications.\n",
        "\n",
        "---"
      ],
      "metadata": {
        "id": "U2w3X1o68MPY"
      }
    },
    {
      "cell_type": "markdown",
      "source": [
        "**1.3 When and when not to use TensorFlow**"
      ],
      "metadata": {
        "id": "WCurnQPy-77C"
      }
    },
    {
      "cell_type": "markdown",
      "source": [
        "**When to use TensorFlow**\n",
        "\n",
        "* Fast prototyping of deep learning models\n",
        "Use Keras layers (Dense, Conv, RNN/LSTM/GRU) and pretrained models to build simple-to-complex architectures with minimal code.\n",
        "\n",
        "* Hardware‑accelerated training/inference\n",
        "TensorFlow’s optimized kernels (e.g., for matrix multiplications) run efficiently on GPUs/TPUs—ideal when you process large datasets or repeat computations at scale.\n",
        "\n",
        "* Production and serving\n",
        "Stay in the same ecosystem to expose your model via an API using TensorFlow Serving; inference can also leverage GPUs/TPUs.\n",
        "\n",
        "* Training-time monitoring\n",
        "Log metrics and visualize them with TensorBoard to spot over/underfitting and diagnose issues during long, compute‑heavy training runs.\n",
        "\n",
        "* Heavy‑duty data pipelines\n",
        "Stream large datasets with low latency using tf.data and related tools. Typical pipelines include:\n",
        "  * massive image ingestion + preprocessing\n",
        "  * structured CSV data + normalization\n",
        "  * large text corpora + light cleaning (lowercasing, punctuation removal)\n",
        "\n",
        "Bottom line: TensorFlow shines when you need rapid DL prototyping, GPU/TPU acceleration, end‑to‑end production workflows, robust monitoring, and scalable input pipelines."
      ],
      "metadata": {
        "id": "9agtFFt5_KzY"
      }
    },
    {
      "cell_type": "markdown",
      "source": [
        "**When not to use TensorFlow**\n",
        "\n",
        "* Traditional Machine Learning Models:\n",
        "For models like linear regression, logistic regression, decision trees, or k-means, TensorFlow is less efficient. These models aren’t parallelizable and don’t benefit much from optimized hardware. Scikit-learn is a better alternative as it offers pre-implemented models and is easier to use for such tasks.\n",
        "\n",
        "* Manipulating and Analyzing Small-Scale Structured Data:\n",
        "For small datasets (e.g., 10,000 samples) that fit in memory, pandas and NumPy are more efficient and flexible. TensorFlow introduces unnecessary overhead, especially for smaller operations that don’t require GPU acceleration.\n",
        "\n",
        "* Complex Natural Language Processing (NLP) Pipelines:\n",
        "For simple NLP tasks like text lowering or punctuation removal, TensorFlow can be useful. However, for more complex preprocessing (e.g., stemming, lemmatization, spelling correction), spaCy is a better tool, as it offers advanced preprocessing functionality and a more intuitive interface. While spaCy can integrate TensorFlow models, it's generally better to avoid such integrations to reduce complexity and potential issues.\n",
        "\n",
        "In summary, TensorFlow is best for deep learning tasks, but for traditional machine learning, small data manipulation, and complex NLP preprocessing, other libraries like scikit-learn, pandas, NumPy, and spaCy are more efficient.\n",
        "\n",
        "![Table1-1.jpg](./01.Chapter-01/Table1-1.jpg)\n",
        "\n",
        "---"
      ],
      "metadata": {
        "id": "D-vfqVviAq-p"
      }
    },
    {
      "cell_type": "markdown",
      "source": [
        "**1.4 What will this book teach you?**\n",
        "\n",
        "* TensorFlow Fundamentals:\n",
        "  * Learn the basics of TensorFlow, including execution styles, primary building blocks (e.g., tf.Variable, tf.Operation), and low-level operations.\n",
        "  * Explore Keras APIs for model-building and when to use each one.\n",
        "  * Study efficient data pipelines for handling large amounts of data, crucial for deep learning models.\n",
        "\n",
        "* Deep Learning Algorithms:\n",
        "  * Understand and implement deep learning models like fully connected networks, CNNs, and RNNs.\n",
        "  * Apply these models to tasks like image classification, segmentation, sentiment analysis, and machine translation without manually engineered features.\n",
        "  * Learn about Transformers, a newer model family that excels in NLP tasks by processing entire sequences at once, surpassing CNNs and RNNs.\n",
        "\n",
        "* Monitoring and Optimization:\n",
        "  * Learn to monitor and optimize model performance using TensorBoard for visualizing metrics and understanding model decisions.\n",
        "  * Explore methods to accelerate training, addressing one of the main bottlenecks in deep learning.\n",
        "\n",
        "In summary, the book will guide you through TensorFlow's core concepts, deep learning models, and optimization techniques, focusing on practical applications and improving model performance.\n",
        "\n",
        "---"
      ],
      "metadata": {
        "id": "Asfp31CBBqUY"
      }
    },
    {
      "cell_type": "markdown",
      "source": [
        "**1.5 Who is this book for?**\n",
        "\n",
        "This book is aimed at:\n",
        "* Novices in machine learning and practitioners with basic to medium knowledge looking to deepen their TensorFlow skills.\n",
        "* Those with experience in the machine learning model development cycle, Python (OOP), NumPy/pandas, basic linear algebra, and a familiarity with deep neural networks.\n",
        "\n",
        "Ideal readers include:\n",
        "* Machine learning researchers, data scientists, engineers, or students with some experience in machine learning.\n",
        "* Those who have worked with other ML libraries like scikit-learn and want to implement deep learning models using TensorFlow.\n",
        "* Beginners who have basic TensorFlow knowledge but want to improve their code quality and efficiency.\n",
        "\n",
        "Key Takeaways:\n",
        "* Learning TensorFlow effectively requires understanding its execution, functionality, and limitations, which is easier with a structured, incremental approach.\n",
        "* The goal is to help readers write effective TensorFlow solutions that are concise, optimized, and make use of the latest API features.\n",
        "\n",
        "---"
      ],
      "metadata": {
        "id": "Wbdx3vTrCqkD"
      }
    },
    {
      "cell_type": "markdown",
      "source": [
        "**1.6 Should we really care about Python and TensorFlow 2?**\n",
        "\n",
        "Why Python and TensorFlow 2?\n",
        "* Python's Role: Python is the primary language used for implementing TensorFlow solutions due to its popularity and extensive libraries (e.g., pandas, NumPy, scikit-learn) that make scientific experiments, simulations, and data processing easier.\n",
        "* Why Python?: Python's widespread use in the scientific community, combined with its rich ecosystem of libraries, has made it the go-to language for machine learning, contributing to its dominance, particularly in ML contexts.\n",
        "* TensorFlow Support: While TensorFlow is primarily used with Python, it also supports other languages like C++, Go, and JavaScript.\n",
        "\n",
        "In summary, Python is chosen for its ease of use, extensive libraries, and popularity in the machine learning community, making it the best choice for working with TensorFlow.\n",
        "\n",
        "![Figure1-2.jpg](./01.Chapter-01/Figure1-2.jpg)\n",
        "\n",
        "Why Choose TensorFlow?\n",
        "* History and Stability: TensorFlow has been around since deep learning gained popularity and has evolved over five years to become a stable and reliable framework.\n",
        "* Comprehensive Ecosystem: Unlike many competitors, TensorFlow offers a full ecosystem of tools for all stages of machine learning, from prototyping to model training and deployment.\n",
        "* Comparison to PyTorch: TensorFlow stands out in its breadth of tools compared to other popular libraries like PyTorch.\n",
        "\n",
        "![Figure1-3.jpg](./01.Chapter-01/Figure1-3.jpg)\n",
        "\n",
        "Performance Comparison: NumPy vs. TensorFlow\n",
        "* Matrix Multiplication Test: Conducted on an Intel i5 CPU and NVIDIA 2070 GPU, comparing NumPy and TensorFlow for multiplying randomly initialized matrices of varying sizes (n × n).\n",
        "* Results: As the matrix size increases, NumPy's computation time grows exponentially, while TensorFlow's time grows linearly.\n",
        "* Conclusion: TensorFlow scales much better than NumPy as data size increases, making it more efficient for larger datasets.\n",
        "\n",
        "![Figure1-4.jpg](./01.Chapter-01/Figure1-4.jpg)"
      ],
      "metadata": {
        "id": "U5iGULlrDcUi"
      }
    }
  ]
}